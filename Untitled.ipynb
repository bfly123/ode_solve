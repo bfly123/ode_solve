{
 "cells": [
  {
   "cell_type": "code",
   "execution_count": 6,
   "metadata": {},
   "outputs": [
    {
     "data": {
      "text/plain": [
       "2*(y(t)*Derivative(y(t), (t, 2)) + z(t)*Derivative(z(t), (t, 2)) + Derivative(y(t), t)**2 + Derivative(z(t), t)**2)"
      ]
     },
     "execution_count": 6,
     "metadata": {},
     "output_type": "execute_result"
    }
   ],
   "source": [
    "from sympy import *\n",
    "t= symbols('t')\n",
    "z=symbols('z',cls=Function)\n",
    "y=symbols('y',cls=Function)\n",
    "\n",
    "diff(z(t)**2+y(t)**2,t,2)"
   ]
  },
  {
   "cell_type": "code",
   "execution_count": 4,
   "metadata": {},
   "outputs": [
    {
     "data": {
      "text/plain": [
       "2*y(t)*Derivative(y(t), (t, 3)) + 2*z(t)*Derivative(z(t), (t, 3)) + 6*Derivative(y(t), t)*Derivative(y(t), (t, 2)) + 6*Derivative(z(t), t)*Derivative(z(t), (t, 2))"
      ]
     },
     "execution_count": 4,
     "metadata": {},
     "output_type": "execute_result"
    }
   ],
   "source": [
    "2*(y(t)*Derivative(y(t), (t, 3)) + z(t)*Derivative(z(t), (t, 3)) + 3*Derivative(y(t), t)*Derivative(y(t), (t, 2)) + 3*Derivative(z(t), t)*Derivative(z(t), (t, 2)))"
   ]
  },
  {
   "cell_type": "code",
   "execution_count": 8,
   "metadata": {},
   "outputs": [
    {
     "data": {
      "text/plain": [
       "(-y(t)**2 + 1)*Derivative(z(t), t) - 2*y(t)*z(t)*Derivative(y(t), t) - Derivative(y(t), t)"
      ]
     },
     "execution_count": 8,
     "metadata": {},
     "output_type": "execute_result"
    }
   ],
   "source": [
    "diff((1-y(t)**2)*z(t)-y(t),t,1)"
   ]
  },
  {
   "cell_type": "code",
   "execution_count": 10,
   "metadata": {},
   "outputs": [
    {
     "data": {
      "text/plain": [
       "2*y(t)*Derivative(y(t), t) + 2*z(t)*Derivative(z(t), t)"
      ]
     },
     "execution_count": 10,
     "metadata": {},
     "output_type": "execute_result"
    }
   ],
   "source": [
    "diff(z(t)**2+y(t)**2,t,1)"
   ]
  },
  {
   "cell_type": "code",
   "execution_count": 11,
   "metadata": {},
   "outputs": [
    {
     "data": {
      "text/plain": [
       "-((y(t)**2 - 1)*Derivative(z(t), (t, 2)) + 2*y(t)*z(t)*Derivative(y(t), (t, 2)) + 4*y(t)*Derivative(y(t), t)*Derivative(z(t), t) + 2*z(t)*Derivative(y(t), t)**2 + Derivative(y(t), (t, 2)))"
      ]
     },
     "execution_count": 11,
     "metadata": {},
     "output_type": "execute_result"
    }
   ],
   "source": [
    "diff((1-y(t)**2)*z(t)-y(t),t,2)"
   ]
  },
  {
   "cell_type": "code",
   "execution_count": null,
   "metadata": {},
   "outputs": [],
   "source": []
  }
 ],
 "metadata": {
  "kernelspec": {
   "display_name": "Python 3",
   "language": "python",
   "name": "python3"
  },
  "language_info": {
   "codemirror_mode": {
    "name": "ipython",
    "version": 3
   },
   "file_extension": ".py",
   "mimetype": "text/x-python",
   "name": "python",
   "nbconvert_exporter": "python",
   "pygments_lexer": "ipython3",
   "version": "3.6.3"
  }
 },
 "nbformat": 4,
 "nbformat_minor": 2
}
